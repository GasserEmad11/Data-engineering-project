{
 "cells": [
  {
   "cell_type": "markdown",
   "metadata": {
    "editable": true
   },
   "source": [
    "# Project Title\n",
    "### Data Engineering Capstone Project\n",
    "\n",
    "#### Project Summary\n",
    "This project aims at combining different datasets from different sources to provide users and corporations with a better data model that should be efficent and easy to analyse.four different datasets are utlizied in this project which are:\n",
    "* immigration dataset from the US National Tourism and Trade Office\n",
    "* world temparture data\n",
    "* us city dataset\n",
    "* airport code dataset \n",
    "\n",
    "The project follows the follow steps:\n",
    "* Step 1: Scope the Project and Gather Data\n",
    "* Step 2: Explore and Assess the Data\n",
    "* Step 3: Define the Data Model\n",
    "* Step 4: Run ETL to Model the Data\n",
    "* Step 5: Complete Project Write Up"
   ]
  },
  {
   "cell_type": "code",
   "execution_count": 1,
   "metadata": {
    "editable": true
   },
   "outputs": [],
   "source": [
    "# Do all imports and installs here\n",
    "# import libraries\n",
    "import pandas as pd\n",
    "import matplotlib.pyplot as plt\n",
    "import os\n",
    "import configparser\n",
    "import glob \n",
    "import pyspark\n",
    "from pyspark.sql import SparkSession\n",
    "from pyspark.sql.functions import udf, col, isnan, when, count, desc, asc, sum, avg, min, max, countDistinct, count, mean, stddev, lit, split, regexp_extract, regexp_replace, date_format, to_date, to_timestamp, from_unixtime, unix_timestamp, year, month, dayofmonth, weekofyear, dayofweek, hour, minute, second, date_add, date_sub, datediff, months_between, to_date, to_timestamp, from_unixtime, unix_timestamp, year, month, dayofmonth, weekofyear, dayofweek, hour, minute, second, date_add, date_sub, datediff, months_between\n",
    "from pyspark.sql.types import *\n",
    "from pyspark.sql.functions import monotonically_increasing_id\n",
    "from pyspark import SparkContext"
   ]
  },
  {
   "cell_type": "markdown",
   "metadata": {
    "editable": true
   },
   "source": [
    "### Step 1: Scope the Project and Gather Data\n",
    "\n",
    "#### Scope \n",
    "the steps taken in this project is :\n",
    "* loading the data from the four different sources into dataframes\n",
    "* perform data cleaning steps to make sure the data is relevant to the scope of the project\n",
    "* perform ETL processes by using spark\n",
    "* load the data into a star schema \"facts and dimension table\"\n",
    "* the project is executed using different tools such as amazon s3,spark\n",
    "\n",
    "#### Describe and Gather Data \n",
    "The four datasets are described as follows:\n",
    "* i94 Immigration Sample Data: immigration records from the US National Tourism and Trade Office\n",
    "* world temparture data:contains sample data of cities tempratures from 1700's to 2013\n",
    "* us city data: data about the demographic of us cities such as race, gender ...etc\n",
    "* airport codes:contains data about the ariport of various cities"
   ]
  },
  {
   "cell_type": "code",
   "execution_count": null,
   "metadata": {
    "editable": true
   },
   "outputs": [],
   "source": [
    "from pyspark.sql import SparkSession\n",
    "\n",
    "spark = SparkSession.builder.\\\n",
    "config(\"spark.jars.repositories\", \"https://repos.spark-packages.org/\").\\\n",
    "config(\"spark.jars.packages\", \"saurfang:spark-sas7bdat:2.0.0-s_2.11\").\\\n",
    "enableHiveSupport().getOrCreate()\n",
    "\n",
    "df_spark = spark.read.format('com.github.saurfang.sas.spark').load('../../data/18-83510-I94-Data-2016/i94_apr16_sub.sas7bdat')\n"
   ]
  },
  {
   "cell_type": "code",
   "execution_count": null,
   "metadata": {},
   "outputs": [],
   "source": []
  },
  {
   "cell_type": "code",
   "execution_count": 2,
   "metadata": {},
   "outputs": [],
   "source": [
    "#create a spark session\n",
    "spark=SparkSession.builder\\\n",
    "    .master('local[*]')\\\n",
    "    .appName('Capstone')\\\n",
    "    .getOrCreate()\n",
    "#increase the executor memory and the driver memory\n",
    "spark.sparkContext.setSystemProperty('spark.executor.memory', '32g')\n",
    "spark.sparkContext.setSystemProperty('spark.driver.memory', '32g')"
   ]
  },
  {
   "cell_type": "code",
   "execution_count": 4,
   "metadata": {},
   "outputs": [],
   "source": [
    "#load the immigration data into a spark dataframe\n",
    "immigration_df=spark.read.csv('D:\\data engineering project\\immigration_data_sample.csv',header=True)"
   ]
  },
  {
   "cell_type": "code",
   "execution_count": null,
   "metadata": {},
   "outputs": [],
   "source": [
    "immigration_df.limit(5).toPandas()"
   ]
  },
  {
   "cell_type": "code",
   "execution_count": null,
   "metadata": {
    "editable": true
   },
   "outputs": [],
   "source": [
    "df_spark.show(5)"
   ]
  },
  {
   "cell_type": "markdown",
   "metadata": {
    "editable": true
   },
   "source": [
    "### Step 2: Explore and Assess the Data\n",
    "#### Explore the Data \n",
    "Using spark,the next step should be exploring the other datasets involved \n",
    "\n",
    "#### Cleaning Steps\n",
    "Document steps necessary to clean the data"
   ]
  },
  {
   "cell_type": "code",
   "execution_count": null,
   "metadata": {
    "editable": true
   },
   "outputs": [],
   "source": [
    "# scope the immigratiom data\n",
    "file_path='immigration_data_sample.csv'\n",
    "immigration_data=spark.read.csv(file_path,header=True)"
   ]
  },
  {
   "cell_type": "code",
   "execution_count": null,
   "metadata": {
    "editable": true
   },
   "outputs": [],
   "source": [
    "immigration_data.show(5)"
   ]
  },
  {
   "cell_type": "code",
   "execution_count": 5,
   "metadata": {
    "editable": true
   },
   "outputs": [],
   "source": [
    "# scope the temprature data\n",
    "temp_data=spark.read.csv('D:\\data engineering project\\GlobalLandTemperaturesByCity.csv',header=True)"
   ]
  },
  {
   "cell_type": "code",
   "execution_count": null,
   "metadata": {
    "editable": true
   },
   "outputs": [],
   "source": [
    "temp_data.show(5)"
   ]
  },
  {
   "cell_type": "code",
   "execution_count": 6,
   "metadata": {
    "editable": true
   },
   "outputs": [],
   "source": [
    "# scope the us city demographic data \n",
    "demo_data=spark.read.csv(r'D:\\data engineering project\\udacity_provided_project\\us-cities-demographics.csv',header=True,sep=';')"
   ]
  },
  {
   "cell_type": "code",
   "execution_count": null,
   "metadata": {
    "editable": true
   },
   "outputs": [],
   "source": [
    "demo_data.show(5)"
   ]
  },
  {
   "cell_type": "code",
   "execution_count": 7,
   "metadata": {
    "editable": true
   },
   "outputs": [],
   "source": [
    "# scope the airport data \n",
    "airport_data=spark.read.csv(r'D:\\data engineering project\\udacity_provided_project\\airport-codes_csv.csv',header=True)"
   ]
  },
  {
   "cell_type": "code",
   "execution_count": null,
   "metadata": {
    "editable": true
   },
   "outputs": [],
   "source": [
    "airport_data.show(5)"
   ]
  },
  {
   "cell_type": "markdown",
   "metadata": {
    "editable": true
   },
   "source": [
    "### cleaning data :\n",
    "The following steps aim to perform multiple steps to ensure that the data is more relevant to the scope of the project"
   ]
  },
  {
   "cell_type": "code",
   "execution_count": null,
   "metadata": {
    "editable": true
   },
   "outputs": [],
   "source": [
    "!pip install utility"
   ]
  },
  {
   "cell_type": "code",
   "execution_count": null,
   "metadata": {
    "editable": true
   },
   "outputs": [],
   "source": [
    "\n",
    "import seaborn as sns\n",
    "import matplotlib.pyplot as plt"
   ]
  },
  {
   "cell_type": "code",
   "execution_count": null,
   "metadata": {
    "editable": true
   },
   "outputs": [],
   "source": [
    "# Performing cleaning tasks here\n",
    "# cleaning steps for immigration data\n",
    "# identify number of missing col in each column\n",
    "missing_values=dict()\n",
    "total_values=dict()\n",
    "for col in immigration_data.columns:\n",
    "    val=immigration_data.filter(immigration_data[col].isNull()).count()\n",
    "    missing_values.update({col:val})\n",
    "    total_val=100*(val/immigration_data.count())\n",
    "    total_values.update({col:total_val})\n",
    "total_values,missing_values\n",
    "\n",
    "\n",
    "\n"
   ]
  },
  {
   "cell_type": "code",
   "execution_count": null,
   "metadata": {
    "editable": true
   },
   "outputs": [],
   "source": []
  },
  {
   "cell_type": "code",
   "execution_count": null,
   "metadata": {
    "editable": true
   },
   "outputs": [],
   "source": [
    "fig,ax=plt.subplots(figsize=(25,10))\n",
    "\n",
    "ax.bar(total_values.keys(),total_values.values())\n",
    "ax.set(title='percentage of missing values ',ylabel='percentage')\n"
   ]
  },
  {
   "cell_type": "markdown",
   "metadata": {
    "editable": true
   },
   "source": [
    "### remove null filled columns\n",
    "Three columns have a percentage of 70% or more of missing values.Those columns should be removed.\n",
    "### important:\n",
    "The original copy of the data should be kept and a new improved dataframe should be created\n"
   ]
  },
  {
   "cell_type": "code",
   "execution_count": null,
   "metadata": {
    "editable": true
   },
   "outputs": [],
   "source": [
    "cols=[\"entdepu\",\"insnum\",\"occup\"]\n",
    "new_immigration=immigration_data.drop(*cols)"
   ]
  },
  {
   "cell_type": "code",
   "execution_count": null,
   "metadata": {
    "editable": true
   },
   "outputs": [],
   "source": [
    "new_immigration.printSchema()"
   ]
  },
  {
   "cell_type": "markdown",
   "metadata": {
    "editable": true
   },
   "source": [
    "### removing redundancies from data\n",
    "Removing any duplicates from the data is important to improve it's quality"
   ]
  },
  {
   "cell_type": "code",
   "execution_count": null,
   "metadata": {
    "editable": true
   },
   "outputs": [],
   "source": []
  },
  {
   "cell_type": "code",
   "execution_count": null,
   "metadata": {
    "editable": true
   },
   "outputs": [],
   "source": [
    "# count the values of the data frame to compare \n",
    "before=new_immigration.count()"
   ]
  },
  {
   "cell_type": "code",
   "execution_count": null,
   "metadata": {
    "editable": true
   },
   "outputs": [],
   "source": [
    "new_immigration=new_immigration.dropDuplicates()\n",
    "after=new_immigration.count()\n",
    "before,after"
   ]
  },
  {
   "cell_type": "markdown",
   "metadata": {
    "editable": true
   },
   "source": [
    "It seems there is no duplicate rows in the immigration data sample"
   ]
  },
  {
   "cell_type": "markdown",
   "metadata": {
    "editable": true
   },
   "source": [
    "### removing null- containing rows \n",
    "for the scope of the project ,every row should not contain more than 50% missing values\n"
   ]
  },
  {
   "cell_type": "code",
   "execution_count": null,
   "metadata": {
    "editable": true
   },
   "outputs": [],
   "source": [
    "col_number=len(new_immigration.columns)\n",
    "thresh=col_number/2"
   ]
  },
  {
   "cell_type": "code",
   "execution_count": null,
   "metadata": {
    "editable": true
   },
   "outputs": [],
   "source": [
    "new_immigration=new_immigration.dropna(thresh=13)\n"
   ]
  },
  {
   "cell_type": "markdown",
   "metadata": {
    "editable": true
   },
   "source": [
    "The previous steps should be performed for every dataset to ensure the quality of data "
   ]
  },
  {
   "cell_type": "code",
   "execution_count": 8,
   "metadata": {
    "editable": true
   },
   "outputs": [],
   "source": [
    "from eda import cleaning_tasks"
   ]
  },
  {
   "cell_type": "code",
   "execution_count": 9,
   "metadata": {
    "editable": true
   },
   "outputs": [
    {
     "name": "stdout",
     "output_type": "stream",
     "text": [
      "visualizing the missing values\n"
     ]
    },
    {
     "data": {
      "image/png": "[encoded data removed]",
      "text/plain": [
       "<Figure size 2500x1000 with 1 Axes>"
      ]
     },
     "metadata": {},
     "output_type": "display_data"
    },
    {
     "name": "stdout",
     "output_type": "stream",
     "text": [
      "removing columns with 70% of missing values ['iata_code']\n",
      "removing redundancies from dataframes\n",
      "the number of rows before removing the redundancies is 55075 and after removing the redundancies is 55075\n",
      "done !!!\n",
      "+-----+-------------+--------------------+------------+-----------+----------+------------+--------+----------+--------------------+\n",
      "|ident|         type|                name|elevation_ft|iso_country|iso_region|municipality|gps_code|local_code|         coordinates|\n",
      "+-----+-------------+--------------------+------------+-----------+----------+------------+--------+----------+--------------------+\n",
      "|  01J|small_airport|    Hilliard Airpark|        59.0|         US|     US-FL|    Hilliard|     01J|       01J|-81.9057006835937...|\n",
      "| 01NJ|     heliport|Albert Guido Memo...|        10.0|         US|     US-NJ|      Newark|    01NJ|      01NJ|-74.1371002197265...|\n",
      "| 05WI|small_airport|Ames Private Airport|       958.0|         US|     US-WI|      Darien|    05WI|      05WI|-88.7459030151367...|\n",
      "| 09TE|small_airport|Running M Ranch A...|       787.0|         US|     US-TX|   Glen Rose|    09TE|      09TE|-97.8669967651367...|\n",
      "| 0AR3|       closed|  Taylor's Air Strip|      2160.0|         US|     US-AR|        Deer|    null|      null|-93.261001, 35.89...|\n",
      "+-----+-------------+--------------------+------------+-----------+----------+------------+--------+----------+--------------------+\n",
      "only showing top 5 rows\n",
      "\n"
     ]
    }
   ],
   "source": [
    "#cleaning the airport code data\n",
    "new_airport=cleaning_tasks(airport_data)\n",
    "new_airport.show(5)"
   ]
  },
  {
   "cell_type": "code",
   "execution_count": 10,
   "metadata": {
    "editable": true
   },
   "outputs": [
    {
     "name": "stdout",
     "output_type": "stream",
     "text": [
      "visualizing the missing values\n"
     ]
    },
    {
     "data": {
      "image/png": "[encoded data removed]",
      "text/plain": [
       "<Figure size 2500x1000 with 1 Axes>"
      ]
     },
     "metadata": {},
     "output_type": "display_data"
    },
    {
     "name": "stdout",
     "output_type": "stream",
     "text": [
      "removing columns with 70% of missing values []\n",
      "removing redundancies from dataframes\n",
      "the number of rows before removing the redundancies is 2891 and after removing the redundancies is 2891\n",
      "done !!!\n",
      "+----------+----------+----------+---------------+-----------------+----------------+------------------+------------+----------------------+----------+--------------------+------+\n",
      "|      City|     State|Median Age|Male Population|Female Population|Total Population|Number of Veterans|Foreign-born|Average Household Size|State Code|                Race| Count|\n",
      "+----------+----------+----------+---------------+-----------------+----------------+------------------+------------+----------------------+----------+--------------------+------+\n",
      "|   Lynwood|California|      29.4|          35634|            36371|           72005|               776|       28061|                  4.43|        CA|Black or African-...|  5346|\n",
      "| Hollywood|   Florida|      41.4|          75358|            74363|          149721|              6056|       55158|                  2.65|        FL|               White|107916|\n",
      "|   Fremont|California|      38.3|         114383|           117808|          232191|              4629|      109427|                  3.12|        CA|  Hispanic or Latino| 29594|\n",
      "|Atascocita|     Texas|      32.8|          37424|            40816|           78240|              4416|        8657|                  3.03|        TX|Black or African-...| 21491|\n",
      "|   Brandon|   Florida|      36.1|          55679|            58289|          113968|              9417|       16390|                  2.64|        FL|American Indian a...|  1921|\n",
      "+----------+----------+----------+---------------+-----------------+----------------+------------------+------------+----------------------+----------+--------------------+------+\n",
      "only showing top 5 rows\n",
      "\n"
     ]
    }
   ],
   "source": [
    "#cleaning the demographic data \n",
    "new_demo=cleaning_tasks(demo_data)\n",
    "new_demo.show(5)"
   ]
  },
  {
   "cell_type": "code",
   "execution_count": null,
   "metadata": {
    "editable": true
   },
   "outputs": [],
   "source": [
    "diff=set(demo_data.columns)-set(immigration_data.columns)\n",
    "diff"
   ]
  },
  {
   "cell_type": "markdown",
   "metadata": {
    "editable": true
   },
   "source": [
    "### Note:\n",
    "The temprature data contains data prior to 1950 which can be irrelevant to the scope of the project,Therefore the data should be filtered to dates within 2013 date or later"
   ]
  },
  {
   "cell_type": "code",
   "execution_count": null,
   "metadata": {
    "editable": true
   },
   "outputs": [],
   "source": [
    "#downsize the temprature data\n",
    "temp_data=temp_data.filter(temp_data['dt']>'1950-1-01')"
   ]
  },
  {
   "cell_type": "code",
   "execution_count": null,
   "metadata": {
    "editable": true
   },
   "outputs": [],
   "source": [
    "temp_data.show(5)"
   ]
  },
  {
   "cell_type": "code",
   "execution_count": 11,
   "metadata": {
    "editable": true
   },
   "outputs": [
    {
     "name": "stdout",
     "output_type": "stream",
     "text": [
      "visualizing the missing values\n"
     ]
    },
    {
     "data": {
      "image/png": "[encoded data removed]",
      "text/plain": [
       "<Figure size 2500x1000 with 1 Axes>"
      ]
     },
     "metadata": {},
     "output_type": "display_data"
    },
    {
     "name": "stdout",
     "output_type": "stream",
     "text": [
      "removing columns with 70% of missing values []\n",
      "removing redundancies from dataframes\n",
      "the number of rows before removing the redundancies is 8599212 and after removing the redundancies is 8599212\n",
      "done !!!\n",
      "+----------+------------------+-----------------------------+-------+---------+--------+---------+\n",
      "|        dt|AverageTemperature|AverageTemperatureUncertainty|   City|  Country|Latitude|Longitude|\n",
      "+----------+------------------+-----------------------------+-------+---------+--------+---------+\n",
      "|1875-02-01|              null|                         null| Bitung|Indonesia|   0.80N|  124.55E|\n",
      "|1877-01-01|25.755000000000006|           1.5390000000000001|Bontang|Indonesia|   0.80N|  118.13E|\n",
      "|1879-12-01|            25.533|                        1.148|Bontang|Indonesia|   0.80N|  118.13E|\n",
      "|1890-01-01|            25.798|                        0.738|Bontang|Indonesia|   0.80N|  118.13E|\n",
      "|1899-05-01|27.075000000000006|                         0.91|Bontang|Indonesia|   0.80N|  118.13E|\n",
      "+----------+------------------+-----------------------------+-------+---------+--------+---------+\n",
      "only showing top 5 rows\n",
      "\n"
     ]
    }
   ],
   "source": [
    "#cleaning the temprature data\n",
    "new_temp=cleaning_tasks(temp_data)\n",
    "new_temp.show(5)"
   ]
  },
  {
   "cell_type": "markdown",
   "metadata": {
    "editable": true
   },
   "source": [
    "### note:\n",
    "Since all the other datasets involve data about the usa,the temprature data should be reduced to reflect us cities only"
   ]
  },
  {
   "cell_type": "code",
   "execution_count": 12,
   "metadata": {
    "editable": true
   },
   "outputs": [],
   "source": [
    "new_temp=new_temp.filter(new_temp['Country']=='United States')\n",
    "# new_temp.show(5)"
   ]
  },
  {
   "cell_type": "code",
   "execution_count": null,
   "metadata": {},
   "outputs": [],
   "source": []
  },
  {
   "cell_type": "code",
   "execution_count": null,
   "metadata": {
    "editable": true
   },
   "outputs": [],
   "source": [
    "new_temp.count()"
   ]
  },
  {
   "cell_type": "markdown",
   "metadata": {
    "editable": true
   },
   "source": [
    "### note :\n",
    "the immigration dataset contains data about immigrants from every age,so to keep the data relevant, only immigrants born in 1998 and later are taken into account in this project"
   ]
  },
  {
   "cell_type": "code",
   "execution_count": null,
   "metadata": {
    "editable": true
   },
   "outputs": [],
   "source": [
    "#get the downsized data\n",
    "df_spark=df_spark.filter(\"biryear>=1998\")"
   ]
  },
  {
   "cell_type": "code",
   "execution_count": null,
   "metadata": {
    "editable": true
   },
   "outputs": [],
   "source": [
    "#cleaning the full immigration data"
   ]
  },
  {
   "cell_type": "code",
   "execution_count": 13,
   "metadata": {
    "editable": true
   },
   "outputs": [
    {
     "name": "stdout",
     "output_type": "stream",
     "text": [
      "visualizing the missing values\n"
     ]
    },
    {
     "data": {
      "image/png": "[encoded data removed]",
      "text/plain": [
       "<Figure size 2500x1000 with 1 Axes>"
      ]
     },
     "metadata": {},
     "output_type": "display_data"
    },
    {
     "name": "stdout",
     "output_type": "stream",
     "text": [
      "removing columns with 70% of missing values ['occup', 'entdepu', 'insnum']\n",
      "removing redundancies from dataframes\n",
      "the number of rows before removing the redundancies is 1000 and after removing the redundancies is 1000\n",
      "done !!!\n"
     ]
    }
   ],
   "source": [
    "new_immigration=cleaning_tasks(immigration_df)\n",
    "# new_immigration.limit(5).toPandas()"
   ]
  },
  {
   "cell_type": "code",
   "execution_count": 14,
   "metadata": {},
   "outputs": [
    {
     "data": {
      "text/plain": [
       "DataFrame[_c0: string, cicid: string, i94yr: string, i94mon: string, i94cit: string, i94res: string, i94port: string, arrdate: string, i94mode: string, i94addr: string, depdate: string, i94bir: string, i94visa: string, count: string, dtadfile: string, visapost: string, occup: string, entdepa: string, entdepd: string, entdepu: string, matflag: string, biryear: string, dtaddto: string, gender: string, insnum: string, airline: string, admnum: string, fltno: string, visatype: string]"
      ]
     },
     "execution_count": 14,
     "metadata": {},
     "output_type": "execute_result"
    }
   ],
   "source": [
    "#free the memory from the original dataframes\n",
    "temp_data.unpersist()\n",
    "demo_data.unpersist()\n",
    "airport_data.unpersist()\n",
    "immigration_df.unpersist()"
   ]
  },
  {
   "cell_type": "code",
   "execution_count": 15,
   "metadata": {},
   "outputs": [],
   "source": [
    "del airport_data\n",
    "del demo_data\n",
    "del temp_data\n",
    "del immigration_df"
   ]
  },
  {
   "cell_type": "code",
   "execution_count": 16,
   "metadata": {},
   "outputs": [
    {
     "data": {
      "text/plain": [
       "15465"
      ]
     },
     "execution_count": 16,
     "metadata": {},
     "output_type": "execute_result"
    }
   ],
   "source": [
    "import gc\n",
    "gc.collect()"
   ]
  },
  {
   "attachments": {},
   "cell_type": "markdown",
   "metadata": {
    "editable": true
   },
   "source": [
    "### Step 3: Define the Data Model\n",
    "#### 3.1 Conceptual Data Model\n",
    "* A star schema with a fact and five dimesnion tables was chosen to contain the data provided by the four datasets chosen for this project.\n",
    "* This schema was chosen to reduce querying done by the anaylitics team and to present the data in a simple,efficent way for business needs.\n",
    "The following diagram represents an illustration of the star schema :\n",
    "![AltText](images\\tables_schema.png)\n",
    "\n",
    "#### 3.2 Mapping Out Data Pipelines\n",
    "The following steps are taken to ensure the star schema is correctly executed:\n",
    "* create dataframes from the availible datasets \n",
    "* perform cleaning and reduction processes on the dataframes \n",
    "* create the staging tables for easier loading into the desired schema\n",
    "* create the fact and dimension tables\n",
    "* perform etl processes\n",
    "* run the data quality checks to ensure the data is loaded correctly"
   ]
  },
  {
   "cell_type": "markdown",
   "metadata": {
    "editable": true
   },
   "source": [
    "### Step 4: Run Pipelines to Model the Data \n",
    "#### 4.1 Create the data model\n",
    "Build the data pipelines to create the data model.\n",
    "\n",
    "The next step is to create the staging tables which combine the datasets to make the loading into the intended star schema more efficient"
   ]
  },
  {
   "cell_type": "code",
   "execution_count": 17,
   "metadata": {
    "editable": true
   },
   "outputs": [],
   "source": [
    "from staging_tables import create_staging_table1"
   ]
  },
  {
   "cell_type": "code",
   "execution_count": 18,
   "metadata": {
    "editable": true
   },
   "outputs": [],
   "source": [
    "staging_table1=create_staging_table1(spark,new_immigration,new_demo)"
   ]
  },
  {
   "cell_type": "code",
   "execution_count": null,
   "metadata": {
    "editable": true
   },
   "outputs": [],
   "source": [
    "staging_table1.limit(10).toPandas()"
   ]
  },
  {
   "cell_type": "code",
   "execution_count": 19,
   "metadata": {
    "editable": true
   },
   "outputs": [],
   "source": [
    "from staging_tables import create_staging_table2"
   ]
  },
  {
   "cell_type": "code",
   "execution_count": 20,
   "metadata": {
    "editable": true
   },
   "outputs": [],
   "source": [
    "staging_table2=create_staging_table2(spark,new_temp,new_airport)"
   ]
  },
  {
   "cell_type": "code",
   "execution_count": null,
   "metadata": {
    "editable": true
   },
   "outputs": [],
   "source": [
    "staging_table2.limit(10).toPandas()"
   ]
  },
  {
   "cell_type": "markdown",
   "metadata": {
    "editable": true
   },
   "source": [
    "### build the fact and dimensions tables\n",
    "the last step is to create the fact and dimensions tables and ensure the quality of the data"
   ]
  },
  {
   "cell_type": "code",
   "execution_count": 21,
   "metadata": {
    "editable": true
   },
   "outputs": [],
   "source": [
    "#build the visa dimension table\n",
    "from create_tables import create_visa_dim"
   ]
  },
  {
   "cell_type": "code",
   "execution_count": 22,
   "metadata": {
    "editable": true
   },
   "outputs": [],
   "source": [
    "visa_dim=create_visa_dim(spark,staging_table1,staging_table2)"
   ]
  },
  {
   "cell_type": "code",
   "execution_count": 23,
   "metadata": {
    "editable": true
   },
   "outputs": [],
   "source": [
    "#create the tempearture dimension\n",
    "from create_tables import create_temp_dim"
   ]
  },
  {
   "cell_type": "code",
   "execution_count": 24,
   "metadata": {
    "editable": true
   },
   "outputs": [],
   "source": [
    "state_to_code=list()"
   ]
  },
  {
   "cell_type": "code",
   "execution_count": 25,
   "metadata": {
    "editable": true
   },
   "outputs": [],
   "source": [
    "temp_dim=create_temp_dim(spark,staging_table2,state_to_code)"
   ]
  },
  {
   "cell_type": "code",
   "execution_count": 26,
   "metadata": {
    "editable": true
   },
   "outputs": [],
   "source": [
    "#create the time dimension\n",
    "from create_tables import create_time_dim"
   ]
  },
  {
   "cell_type": "code",
   "execution_count": 27,
   "metadata": {
    "editable": true
   },
   "outputs": [],
   "source": [
    "time_dim=create_time_dim(spark,staging_table1,staging_table2)"
   ]
  },
  {
   "cell_type": "code",
   "execution_count": 28,
   "metadata": {
    "editable": true
   },
   "outputs": [],
   "source": [
    "spark.conf.set(\"spark.sql.execution.arrow.pyspark.enabled\", \"true\")"
   ]
  },
  {
   "cell_type": "code",
   "execution_count": 29,
   "metadata": {
    "editable": true
   },
   "outputs": [],
   "source": [
    "#create the airport dimesnion table\n",
    "from create_tables import create_airport_dim"
   ]
  },
  {
   "cell_type": "code",
   "execution_count": 30,
   "metadata": {
    "editable": true
   },
   "outputs": [],
   "source": [
    "airport_dim=create_airport_dim(spark,staging_table1,staging_table2)\n"
   ]
  },
  {
   "cell_type": "code",
   "execution_count": 31,
   "metadata": {
    "editable": true
   },
   "outputs": [],
   "source": [
    "#create the demograhpic dimension\n",
    "from create_tables import create_demographic_dim"
   ]
  },
  {
   "cell_type": "code",
   "execution_count": 32,
   "metadata": {
    "editable": true
   },
   "outputs": [],
   "source": [
    "demo_dim=create_demographic_dim(spark,staging_table1,staging_table2)"
   ]
  },
  {
   "cell_type": "code",
   "execution_count": 33,
   "metadata": {
    "editable": true
   },
   "outputs": [],
   "source": [
    "#create the immigration fact table\n",
    "from create_tables import create_immigrant_fact"
   ]
  },
  {
   "cell_type": "code",
   "execution_count": 35,
   "metadata": {
    "editable": true
   },
   "outputs": [],
   "source": [
    "immigrant_fact=create_immigrant_fact(spark,staging_table1,staging_table2)"
   ]
  },
  {
   "cell_type": "code",
   "execution_count": null,
   "metadata": {},
   "outputs": [],
   "source": [
    "visa=visa_dim.toPandas()"
   ]
  },
  {
   "cell_type": "code",
   "execution_count": null,
   "metadata": {},
   "outputs": [],
   "source": [
    "visa=visa.drop(columns=['visatype','visapost'])"
   ]
  },
  {
   "cell_type": "code",
   "execution_count": null,
   "metadata": {},
   "outputs": [],
   "source": [
    "visa.head(5)"
   ]
  },
  {
   "cell_type": "code",
   "execution_count": null,
   "metadata": {
    "editable": true
   },
   "outputs": [],
   "source": [
    "spark.conf.set('spark.sql.autoBroadcastJoinThreshold',-1)"
   ]
  },
  {
   "cell_type": "code",
   "execution_count": 36,
   "metadata": {},
   "outputs": [],
   "source": [
    "#free the memory of the staging tables\n",
    "del staging_table1\n",
    "del staging_table2"
   ]
  },
  {
   "cell_type": "markdown",
   "metadata": {
    "editable": true
   },
   "source": [
    "#### 4.2 Data Quality Checks\n",
    "To ensure that the etl process executed as needed, scoping the create schema and analyzing it is necesessary\n",
    "* scope the data using  toPandas()\n",
    "* calculate the count of the data\n",
    "Run Quality Checks"
   ]
  },
  {
   "cell_type": "code",
   "execution_count": 37,
   "metadata": {},
   "outputs": [
    {
     "data": {
      "text/plain": [
       "346636"
      ]
     },
     "execution_count": 37,
     "metadata": {},
     "output_type": "execute_result"
    }
   ],
   "source": [
    "import gc\n",
    "gc.collect()"
   ]
  },
  {
   "cell_type": "code",
   "execution_count": null,
   "metadata": {},
   "outputs": [],
   "source": [
    "immigrant_fact.printSchema()"
   ]
  },
  {
   "cell_type": "code",
   "execution_count": 38,
   "metadata": {},
   "outputs": [
    {
     "name": "stdout",
     "output_type": "stream",
     "text": [
      "+---------+------+-------+----------------+-------------+--------------------+-------+----------+-------+-----------+------------+--------------+\n",
      "|       id|gender|i94visa|            City|       admnum|                Race|arrdate|state_code|depdate|average_age|arrival_date|departure_date|\n",
      "+---------+------+-------+----------------+-------------+--------------------+-------+----------+-------+-----------+------------+--------------+\n",
      "|4909999.0|     M|    2.0|         Fremont|94576073230.0|               Asian|20570.0|        CA|20659.0|       38.3|  2016-04-26|    2016-07-24|\n",
      "|4909999.0|     M|    2.0|    Santa Monica|94576073230.0|               Asian|20570.0|        CA|20659.0|       40.6|  2016-04-26|    2016-07-24|\n",
      "|4909999.0|     M|    2.0|          Upland|94576073230.0|               Asian|20570.0|        CA|20659.0|       39.7|  2016-04-26|    2016-07-24|\n",
      "|4909999.0|     M|    2.0|         Salinas|94576073230.0|Black or African-...|20570.0|        CA|20659.0|       30.4|  2016-04-26|    2016-07-24|\n",
      "|4909999.0|     M|    2.0|Rancho Cucamonga|94576073230.0|               Asian|20570.0|        CA|20659.0|       34.5|  2016-04-26|    2016-07-24|\n",
      "+---------+------+-------+----------------+-------------+--------------------+-------+----------+-------+-----------+------------+--------------+\n",
      "only showing top 5 rows\n",
      "\n"
     ]
    }
   ],
   "source": [
    "immigrant_fact.show(5)"
   ]
  },
  {
   "cell_type": "code",
   "execution_count": null,
   "metadata": {
    "editable": true
   },
   "outputs": [],
   "source": [
    "# scope the airport dimension \n",
    "airport_dim.toPandas().head(5)"
   ]
  },
  {
   "cell_type": "code",
   "execution_count": null,
   "metadata": {
    "editable": true
   },
   "outputs": [],
   "source": [
    "#calculate the count \n",
    "airport_dim.select(\"*\").count()"
   ]
  },
  {
   "cell_type": "code",
   "execution_count": null,
   "metadata": {
    "editable": true
   },
   "outputs": [],
   "source": [
    "#scope the temperature dimension\n",
    "temp_dim.toPandas().head(5)"
   ]
  },
  {
   "cell_type": "code",
   "execution_count": null,
   "metadata": {
    "editable": true
   },
   "outputs": [],
   "source": [
    "#calculate the count\n",
    "temp_dim.select(\"*\").count()"
   ]
  },
  {
   "cell_type": "code",
   "execution_count": null,
   "metadata": {
    "editable": true
   },
   "outputs": [],
   "source": [
    "#scope the demographic dimension\n",
    "demo_dim.toPandas().head(5)"
   ]
  },
  {
   "cell_type": "code",
   "execution_count": null,
   "metadata": {
    "editable": true
   },
   "outputs": [],
   "source": [
    "#calculate the count\n",
    "demo_dim.select(\"*\").count()"
   ]
  },
  {
   "cell_type": "code",
   "execution_count": null,
   "metadata": {},
   "outputs": [],
   "source": [
    "spark.conf.set(\"spark.sql.execution.arrow.pyspark.enabled\", \"true\")"
   ]
  },
  {
   "cell_type": "code",
   "execution_count": null,
   "metadata": {
    "editable": true
   },
   "outputs": [],
   "source": [
    "#scope the time dimension\n",
    "time_dim.show(5)"
   ]
  },
  {
   "cell_type": "code",
   "execution_count": null,
   "metadata": {
    "editable": true
   },
   "outputs": [],
   "source": [
    "#calculate the count\n",
    "time_dim.select(\"*\").count()"
   ]
  },
  {
   "cell_type": "code",
   "execution_count": null,
   "metadata": {
    "editable": true
   },
   "outputs": [],
   "source": [
    "#scope the visa dimension\n",
    "visa_dim.toPandas().head(5)"
   ]
  },
  {
   "cell_type": "code",
   "execution_count": null,
   "metadata": {
    "editable": true
   },
   "outputs": [],
   "source": [
    "#calculate the count\n",
    "visa_dim.select(\"*\").count()"
   ]
  },
  {
   "cell_type": "code",
   "execution_count": 39,
   "metadata": {
    "editable": true
   },
   "outputs": [
    {
     "data": {
      "text/html": [
       "<div>\n",
       "<style scoped>\n",
       "    .dataframe tbody tr th:only-of-type {\n",
       "        vertical-align: middle;\n",
       "    }\n",
       "\n",
       "    .dataframe tbody tr th {\n",
       "        vertical-align: top;\n",
       "    }\n",
       "\n",
       "    .dataframe thead th {\n",
       "        text-align: right;\n",
       "    }\n",
       "</style>\n",
       "<table border=\"1\" class=\"dataframe\">\n",
       "  <thead>\n",
       "    <tr style=\"text-align: right;\">\n",
       "      <th></th>\n",
       "      <th>id</th>\n",
       "      <th>gender</th>\n",
       "      <th>i94visa</th>\n",
       "      <th>City</th>\n",
       "      <th>admnum</th>\n",
       "      <th>Race</th>\n",
       "      <th>arrdate</th>\n",
       "      <th>state_code</th>\n",
       "      <th>depdate</th>\n",
       "      <th>average_age</th>\n",
       "      <th>arrival_date</th>\n",
       "      <th>departure_date</th>\n",
       "    </tr>\n",
       "  </thead>\n",
       "  <tbody>\n",
       "    <tr>\n",
       "      <th>0</th>\n",
       "      <td>4909999.0</td>\n",
       "      <td>M</td>\n",
       "      <td>2.0</td>\n",
       "      <td>Fremont</td>\n",
       "      <td>94576073230.0</td>\n",
       "      <td>Asian</td>\n",
       "      <td>20570.0</td>\n",
       "      <td>CA</td>\n",
       "      <td>20659.0</td>\n",
       "      <td>38.3</td>\n",
       "      <td>2016-04-26</td>\n",
       "      <td>2016-07-24</td>\n",
       "    </tr>\n",
       "    <tr>\n",
       "      <th>1</th>\n",
       "      <td>4909999.0</td>\n",
       "      <td>M</td>\n",
       "      <td>2.0</td>\n",
       "      <td>Santa Monica</td>\n",
       "      <td>94576073230.0</td>\n",
       "      <td>Asian</td>\n",
       "      <td>20570.0</td>\n",
       "      <td>CA</td>\n",
       "      <td>20659.0</td>\n",
       "      <td>40.6</td>\n",
       "      <td>2016-04-26</td>\n",
       "      <td>2016-07-24</td>\n",
       "    </tr>\n",
       "    <tr>\n",
       "      <th>2</th>\n",
       "      <td>4909999.0</td>\n",
       "      <td>M</td>\n",
       "      <td>2.0</td>\n",
       "      <td>Upland</td>\n",
       "      <td>94576073230.0</td>\n",
       "      <td>Asian</td>\n",
       "      <td>20570.0</td>\n",
       "      <td>CA</td>\n",
       "      <td>20659.0</td>\n",
       "      <td>39.7</td>\n",
       "      <td>2016-04-26</td>\n",
       "      <td>2016-07-24</td>\n",
       "    </tr>\n",
       "    <tr>\n",
       "      <th>3</th>\n",
       "      <td>4909999.0</td>\n",
       "      <td>M</td>\n",
       "      <td>2.0</td>\n",
       "      <td>Salinas</td>\n",
       "      <td>94576073230.0</td>\n",
       "      <td>Black or African-American</td>\n",
       "      <td>20570.0</td>\n",
       "      <td>CA</td>\n",
       "      <td>20659.0</td>\n",
       "      <td>30.4</td>\n",
       "      <td>2016-04-26</td>\n",
       "      <td>2016-07-24</td>\n",
       "    </tr>\n",
       "    <tr>\n",
       "      <th>4</th>\n",
       "      <td>4909999.0</td>\n",
       "      <td>M</td>\n",
       "      <td>2.0</td>\n",
       "      <td>Rancho Cucamonga</td>\n",
       "      <td>94576073230.0</td>\n",
       "      <td>Asian</td>\n",
       "      <td>20570.0</td>\n",
       "      <td>CA</td>\n",
       "      <td>20659.0</td>\n",
       "      <td>34.5</td>\n",
       "      <td>2016-04-26</td>\n",
       "      <td>2016-07-24</td>\n",
       "    </tr>\n",
       "  </tbody>\n",
       "</table>\n",
       "</div>"
      ],
      "text/plain": [
       "          id gender i94visa              City         admnum  \\\n",
       "0  4909999.0      M     2.0           Fremont  94576073230.0   \n",
       "1  4909999.0      M     2.0      Santa Monica  94576073230.0   \n",
       "2  4909999.0      M     2.0            Upland  94576073230.0   \n",
       "3  4909999.0      M     2.0           Salinas  94576073230.0   \n",
       "4  4909999.0      M     2.0  Rancho Cucamonga  94576073230.0   \n",
       "\n",
       "                        Race  arrdate state_code  depdate average_age  \\\n",
       "0                      Asian  20570.0         CA  20659.0        38.3   \n",
       "1                      Asian  20570.0         CA  20659.0        40.6   \n",
       "2                      Asian  20570.0         CA  20659.0        39.7   \n",
       "3  Black or African-American  20570.0         CA  20659.0        30.4   \n",
       "4                      Asian  20570.0         CA  20659.0        34.5   \n",
       "\n",
       "  arrival_date departure_date  \n",
       "0   2016-04-26     2016-07-24  \n",
       "1   2016-04-26     2016-07-24  \n",
       "2   2016-04-26     2016-07-24  \n",
       "3   2016-04-26     2016-07-24  \n",
       "4   2016-04-26     2016-07-24  "
      ]
     },
     "execution_count": 39,
     "metadata": {},
     "output_type": "execute_result"
    }
   ],
   "source": [
    "#observe the immigrant table\n",
    "immigrant_fact.toPandas().head(5)"
   ]
  },
  {
   "cell_type": "markdown",
   "metadata": {
    "editable": true
   },
   "source": [
    "### 4.2.2 writing files to parquet to AWS s3\n",
    "Since the immigration data is in monthly format,the previous steps should be executed in addition to writing the final tables to amazon S3\n",
    "in parquet form to efficently store the data.\n",
    "\n",
    "This process should be executed monthly to ensure the data is up to date.\n"
   ]
  },
  {
   "cell_type": "code",
   "execution_count": null,
   "metadata": {
    "editable": true
   },
   "outputs": [],
   "source": [
    "#read the config file\n",
    "config = configparser.ConfigParser()\n",
    "config.read('aws.cfg')"
   ]
  },
  {
   "cell_type": "code",
   "execution_count": null,
   "metadata": {},
   "outputs": [],
   "source": [
    "$ export PYSPARK_DRIVER_PYTHON_OPTS=\"notebook --port=7999\""
   ]
  },
  {
   "cell_type": "code",
   "execution_count": 42,
   "metadata": {
    "editable": true
   },
   "outputs": [],
   "source": [
    "#write the tables to parquet  to the intended s3 bucket \n",
    "demo_dim.write.parquet('./parquet_tables/demo_dim.parquet')"
   ]
  },
  {
   "cell_type": "code",
   "execution_count": 43,
   "metadata": {},
   "outputs": [],
   "source": [
    "visa_dim.write.parquet('./parquet_tables/visa_dim.parquet')"
   ]
  },
  {
   "cell_type": "code",
   "execution_count": 44,
   "metadata": {},
   "outputs": [],
   "source": [
    "airport_dim.write.parquet('./parquet_tables/airport_dim.parquet')"
   ]
  },
  {
   "cell_type": "code",
   "execution_count": 45,
   "metadata": {},
   "outputs": [],
   "source": [
    "temp_dim.write.parquet('./parquet_tables/temp_dim.parquet')"
   ]
  },
  {
   "cell_type": "code",
   "execution_count": 46,
   "metadata": {},
   "outputs": [],
   "source": [
    "time_dim.write.parquet('./parquet_tables/time_dim.parquet')"
   ]
  },
  {
   "cell_type": "code",
   "execution_count": 47,
   "metadata": {},
   "outputs": [],
   "source": [
    "immigrant_fact.write.parquet('./parquet_tables/immigrant_fact.parquet')"
   ]
  },
  {
   "cell_type": "code",
   "execution_count": 48,
   "metadata": {},
   "outputs": [
    {
     "data": {
      "text/plain": [
       "DataFrame[arrdate: string, date: date, year: int, month: int, day: int]"
      ]
     },
     "execution_count": 48,
     "metadata": {},
     "output_type": "execute_result"
    }
   ],
   "source": [
    "#free the dataframes\n",
    "demo_dim.unpersist()\n",
    "visa_dim.unpersist()\n",
    "airport_dim.unpersist()\n",
    "temp_dim.unpersist()\n",
    "time_dim.unpersist()"
   ]
  },
  {
   "cell_type": "code",
   "execution_count": 49,
   "metadata": {},
   "outputs": [
    {
     "data": {
      "text/plain": [
       "1872"
      ]
     },
     "execution_count": 49,
     "metadata": {},
     "output_type": "execute_result"
    }
   ],
   "source": [
    "# delete the datarames from the memory\n",
    "del demo_dim\n",
    "del airport_dim\n",
    "del temp_dim\n",
    "del visa_dim\n",
    "del time_dim\n",
    "gc.collect()"
   ]
  },
  {
   "cell_type": "code",
   "execution_count": null,
   "metadata": {},
   "outputs": [],
   "source": [
    "immigrant_fact.write.parquet('./parquet_tables/immigrant_fact.parquet')"
   ]
  },
  {
   "cell_type": "code",
   "execution_count": null,
   "metadata": {
    "editable": true
   },
   "outputs": [],
   "source": [
    "import boto3"
   ]
  },
  {
   "cell_type": "code",
   "execution_count": null,
   "metadata": {
    "editable": true
   },
   "outputs": [],
   "source": [
    "#upload the parquet files to s3\n",
    "KEY=config['AWS']['AWS_ACCESS_KEY_ID']\n",
    "SECRET_KEY=config['AWS']['AWS_SECRET_KEY']\n",
    "BUCKET=config['AWS']['S3_BUCKET_NAME']\n",
    "#create a session\n",
    "session=boto3.session(aws_access_key_id=KEY, aws_secret_access_key=SECRET_KEY, region_name=\"us-west-2\")\n",
    "#create an s3 resource\n",
    "s3=boto3.resource('s3')\n",
    "#create a bucket instance\n",
    "bucket=s3.bucket(BUCKET)\n",
    "#loop through all the parquet files \n",
    "for root, dirs, files in os.walk('parquet_tables'):\n",
    "    for file in files:\n",
    "        #get the full path\n",
    "        path=os.join(root,file)\n",
    "        with open(path,'rb') as parquet_file:\n",
    "            #upload the file to s3\n",
    "            bucket.put_object(Key=path, Body=parquet_file)\n"
   ]
  },
  {
   "attachments": {},
   "cell_type": "markdown",
   "metadata": {
    "editable": true
   },
   "source": [
    "### summary:\n",
    "This project aims to create data pipelines from various datasources to provide meaningful insights to the analytics team\n",
    "the project map is best summarized in the diagram below:\n",
    "![alt text](images/ETL_DIAGRAM1.png)\n",
    "\n",
    "As seen in the previous image ,data is extracted from the four different available sources and then processed into spark dataframes.\n",
    "\n",
    "the next step is to create the staging tables and populate them using the previously created dataframes.\n",
    "\n",
    "The third step is to create the fact and dimensions tables for the star schema and perform etl processes on the staging tables to load the data.\n",
    "\n",
    "The final step is to save the files to parquet format and store them in s3 for the anayltics team to perform analysis on."
   ]
  },
  {
   "cell_type": "markdown",
   "metadata": {
    "editable": true
   },
   "source": [
    "#### 4.3 Data dictionary \n",
    "Create a data dictionary for your data model. For each field, provide a brief description of what the data is and where it came from. You can include the data dictionary in the notebook or in a separate file.\n",
    "\n",
    "\n",
    "<strong> a dictionary text file is provided which notates every table"
   ]
  },
  {
   "cell_type": "markdown",
   "metadata": {
    "editable": true
   },
   "source": [
    "#### Step 5: Complete Project Write Up\n",
    "* Clearly state the rationale for the choice of tools and technologies for the project.\n",
    "* Propose how often the data should be updated and why.\n",
    "* Write a description of how you would approach the problem differently under the following scenarios:\n",
    " * The data was increased by 100x.\n",
    " * The data populates a dashboard that must be updated on a daily basis by 7am every day.\n",
    " * The database needed to be accessed by 100+ people."
   ]
  },
  {
   "cell_type": "markdown",
   "metadata": {
    "editable": true
   },
   "source": [
    "For the scope of the project and the size of the provided datasets,three different tools were used:\n",
    "* spark: best for handling data streaming and processing of large quantities of data\n",
    "* pandas: best for exploration of data and gaining insights on data\n",
    "* AWS s3: best for storing large volumes of data and accessing them easily"
   ]
  },
  {
   "cell_type": "markdown",
   "metadata": {
    "editable": true
   },
   "source": [
    "### The data was increased by 100 fold:\n",
    "If the data increased by 100 times , the appropiate way to handle it would be to incroprate the usage of Amazon EMR ,\n",
    "as it is built for the purpose of hosting big data "
   ]
  },
  {
   "cell_type": "markdown",
   "metadata": {
    "editable": true
   },
   "source": [
    "### The data populates a dashboard everyday by 7am:\n",
    "Apache airflow is a data automation tool that run DAGS inteded to perform certain operations on data,\n",
    "so impleminting airflow into the scope of the project would be the right choice"
   ]
  },
  {
   "attachments": {},
   "cell_type": "markdown",
   "metadata": {
    "editable": true
   },
   "source": [
    "### The data is needed to be accessed by 100+ people:\n",
    "For it's high scalibilty and efficency, redshift would be connected to s3 to better serve the increasing number of intrest in the project"
   ]
  }
 ],
 "metadata": {
  "kernelspec": {
   "display_name": "Python 3",
   "language": "python",
   "name": "python3"
  },
  "language_info": {
   "codemirror_mode": {
    "name": "ipython",
    "version": 3
   },
   "file_extension": ".py",
   "mimetype": "text/x-python",
   "name": "python",
   "nbconvert_exporter": "python",
   "pygments_lexer": "ipython3",
   "version": "3.10.5"
  },
  "vscode": {
   "interpreter": {
    "hash": "34858fb4650e4f08c5273abdf3b94d08eabaf2da6ad278d4e34e857f9bde1bd0"
   }
  }
 },
 "nbformat": 4,
 "nbformat_minor": 4
}
